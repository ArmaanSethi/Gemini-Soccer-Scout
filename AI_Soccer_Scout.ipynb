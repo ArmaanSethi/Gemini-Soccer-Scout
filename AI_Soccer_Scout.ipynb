{
  "nbformat": 4,
  "nbformat_minor": 0,
  "metadata": {
    "colab": {
      "provenance": [],
      "authorship_tag": "ABX9TyPHkQ3MEfZ1Lf68bijjEliJ",
      "include_colab_link": true
    },
    "kernelspec": {
      "name": "python3",
      "display_name": "Python 3"
    },
    "language_info": {
      "name": "python"
    }
  },
  "cells": [
    {
      "cell_type": "markdown",
      "metadata": {
        "id": "view-in-github",
        "colab_type": "text"
      },
      "source": [
        "<a href=\"https://colab.research.google.com/github/ArmaanSethi/Gemini-Soccer-Scout/blob/main/AI_Soccer_Scout.ipynb\" target=\"_parent\"><img src=\"https://colab.research.google.com/assets/colab-badge.svg\" alt=\"Open In Colab\"/></a>"
      ]
    },
    {
      "cell_type": "code",
      "execution_count": 55,
      "metadata": {
        "id": "xGjN6yPOchLd"
      },
      "outputs": [],
      "source": [
        "import requests\n",
        "import pandas as pd\n",
        "\n",
        "from datetime import datetime\n",
        "from bs4 import BeautifulSoup\n",
        "from google.colab import userdata\n",
        "\n"
      ]
    },
    {
      "cell_type": "code",
      "source": [
        "# Lamine Yamal\n",
        "player_name = 'Lamine Yamal'\n",
        "url = 'https://fbref.com/en/players/82ec26c1/Lamine-Yamal'\n",
        "attrs = 'scout_summary_AM'\n"
      ],
      "metadata": {
        "id": "WuVZsgHqdXbb"
      },
      "execution_count": 56,
      "outputs": []
    },
    {
      "cell_type": "code",
      "source": [
        "df = pd.read_html(\n",
        "    url,\n",
        "    attrs={'id': attrs} # Change the id & class to correspond to the table\n",
        ")[0]"
      ],
      "metadata": {
        "id": "Ga-3yB5FdYrq"
      },
      "execution_count": 57,
      "outputs": []
    },
    {
      "cell_type": "code",
      "source": [
        "response = requests.get(url)\n",
        "soup = BeautifulSoup(response.text, 'html.parser')\n"
      ],
      "metadata": {
        "id": "8GRkUao-dep-"
      },
      "execution_count": 58,
      "outputs": []
    },
    {
      "cell_type": "code",
      "source": [
        "# Get the player's age, team, league, and position\n",
        "position = soup.select_one('p:-soup-contains(\"Position\")').text.split(':')[-2].split(' ')[0].strip()\n",
        "birthday = soup.select_one('span[id=\"necro-birth\"]').text.strip()\n",
        "\n",
        "# get the player's age\n",
        "age = (datetime.now() - datetime.strptime(birthday, '%B %d, %Y')).days // 365\n",
        "team = soup.select_one('p:-soup-contains(\"Club\")').text.split(':')[-1].strip()\n"
      ],
      "metadata": {
        "id": "IP4wwhfVdkmi"
      },
      "execution_count": 59,
      "outputs": []
    },
    {
      "cell_type": "code",
      "source": [
        "df = df.dropna(subset='Statistic')\n",
        "df"
      ],
      "metadata": {
        "colab": {
          "base_uri": "https://localhost:8080/",
          "height": 645
        },
        "id": "A7RnPFxFdvSr",
        "outputId": "3280baaa-9b83-4ab0-ebcf-27d87b3a544f"
      },
      "execution_count": 62,
      "outputs": [
        {
          "output_type": "execute_result",
          "data": {
            "text/plain": [
              "                   Statistic Per 90  Percentile\n",
              "0          Non-Penalty Goals   0.15        24.0\n",
              "1       npxG: Non-Penalty xG   0.24        58.0\n",
              "2                Shots Total   2.61        71.0\n",
              "3                    Assists   0.22        63.0\n",
              "4   xAG: Exp. Assisted Goals   0.28        83.0\n",
              "5                 npxG + xAG   0.51        74.0\n",
              "6      Shot-Creating Actions   4.49        71.0\n",
              "8           Passes Attempted  44.58        71.0\n",
              "9          Pass Completion %  78.6%        72.0\n",
              "10        Progressive Passes   3.38        36.0\n",
              "11       Progressive Carries   4.97        80.0\n",
              "12       Successful Take-Ons   2.83        87.0\n",
              "13         Touches (Att Pen)   6.11        85.0\n",
              "14    Progressive Passes Rec  13.50        96.0\n",
              "16                   Tackles   2.32        95.0\n",
              "17             Interceptions   0.85        92.0\n",
              "18                    Blocks   1.62        94.0\n",
              "19                Clearances   0.44        40.0\n",
              "20               Aerials Won   0.11         8.0"
            ],
            "text/html": [
              "\n",
              "  <div id=\"df-25df6141-a26c-4e3b-95fa-b316fc8c24db\" class=\"colab-df-container\">\n",
              "    <div>\n",
              "<style scoped>\n",
              "    .dataframe tbody tr th:only-of-type {\n",
              "        vertical-align: middle;\n",
              "    }\n",
              "\n",
              "    .dataframe tbody tr th {\n",
              "        vertical-align: top;\n",
              "    }\n",
              "\n",
              "    .dataframe thead th {\n",
              "        text-align: right;\n",
              "    }\n",
              "</style>\n",
              "<table border=\"1\" class=\"dataframe\">\n",
              "  <thead>\n",
              "    <tr style=\"text-align: right;\">\n",
              "      <th></th>\n",
              "      <th>Statistic</th>\n",
              "      <th>Per 90</th>\n",
              "      <th>Percentile</th>\n",
              "    </tr>\n",
              "  </thead>\n",
              "  <tbody>\n",
              "    <tr>\n",
              "      <th>0</th>\n",
              "      <td>Non-Penalty Goals</td>\n",
              "      <td>0.15</td>\n",
              "      <td>24.0</td>\n",
              "    </tr>\n",
              "    <tr>\n",
              "      <th>1</th>\n",
              "      <td>npxG: Non-Penalty xG</td>\n",
              "      <td>0.24</td>\n",
              "      <td>58.0</td>\n",
              "    </tr>\n",
              "    <tr>\n",
              "      <th>2</th>\n",
              "      <td>Shots Total</td>\n",
              "      <td>2.61</td>\n",
              "      <td>71.0</td>\n",
              "    </tr>\n",
              "    <tr>\n",
              "      <th>3</th>\n",
              "      <td>Assists</td>\n",
              "      <td>0.22</td>\n",
              "      <td>63.0</td>\n",
              "    </tr>\n",
              "    <tr>\n",
              "      <th>4</th>\n",
              "      <td>xAG: Exp. Assisted Goals</td>\n",
              "      <td>0.28</td>\n",
              "      <td>83.0</td>\n",
              "    </tr>\n",
              "    <tr>\n",
              "      <th>5</th>\n",
              "      <td>npxG + xAG</td>\n",
              "      <td>0.51</td>\n",
              "      <td>74.0</td>\n",
              "    </tr>\n",
              "    <tr>\n",
              "      <th>6</th>\n",
              "      <td>Shot-Creating Actions</td>\n",
              "      <td>4.49</td>\n",
              "      <td>71.0</td>\n",
              "    </tr>\n",
              "    <tr>\n",
              "      <th>8</th>\n",
              "      <td>Passes Attempted</td>\n",
              "      <td>44.58</td>\n",
              "      <td>71.0</td>\n",
              "    </tr>\n",
              "    <tr>\n",
              "      <th>9</th>\n",
              "      <td>Pass Completion %</td>\n",
              "      <td>78.6%</td>\n",
              "      <td>72.0</td>\n",
              "    </tr>\n",
              "    <tr>\n",
              "      <th>10</th>\n",
              "      <td>Progressive Passes</td>\n",
              "      <td>3.38</td>\n",
              "      <td>36.0</td>\n",
              "    </tr>\n",
              "    <tr>\n",
              "      <th>11</th>\n",
              "      <td>Progressive Carries</td>\n",
              "      <td>4.97</td>\n",
              "      <td>80.0</td>\n",
              "    </tr>\n",
              "    <tr>\n",
              "      <th>12</th>\n",
              "      <td>Successful Take-Ons</td>\n",
              "      <td>2.83</td>\n",
              "      <td>87.0</td>\n",
              "    </tr>\n",
              "    <tr>\n",
              "      <th>13</th>\n",
              "      <td>Touches (Att Pen)</td>\n",
              "      <td>6.11</td>\n",
              "      <td>85.0</td>\n",
              "    </tr>\n",
              "    <tr>\n",
              "      <th>14</th>\n",
              "      <td>Progressive Passes Rec</td>\n",
              "      <td>13.50</td>\n",
              "      <td>96.0</td>\n",
              "    </tr>\n",
              "    <tr>\n",
              "      <th>16</th>\n",
              "      <td>Tackles</td>\n",
              "      <td>2.32</td>\n",
              "      <td>95.0</td>\n",
              "    </tr>\n",
              "    <tr>\n",
              "      <th>17</th>\n",
              "      <td>Interceptions</td>\n",
              "      <td>0.85</td>\n",
              "      <td>92.0</td>\n",
              "    </tr>\n",
              "    <tr>\n",
              "      <th>18</th>\n",
              "      <td>Blocks</td>\n",
              "      <td>1.62</td>\n",
              "      <td>94.0</td>\n",
              "    </tr>\n",
              "    <tr>\n",
              "      <th>19</th>\n",
              "      <td>Clearances</td>\n",
              "      <td>0.44</td>\n",
              "      <td>40.0</td>\n",
              "    </tr>\n",
              "    <tr>\n",
              "      <th>20</th>\n",
              "      <td>Aerials Won</td>\n",
              "      <td>0.11</td>\n",
              "      <td>8.0</td>\n",
              "    </tr>\n",
              "  </tbody>\n",
              "</table>\n",
              "</div>\n",
              "    <div class=\"colab-df-buttons\">\n",
              "\n",
              "  <div class=\"colab-df-container\">\n",
              "    <button class=\"colab-df-convert\" onclick=\"convertToInteractive('df-25df6141-a26c-4e3b-95fa-b316fc8c24db')\"\n",
              "            title=\"Convert this dataframe to an interactive table.\"\n",
              "            style=\"display:none;\">\n",
              "\n",
              "  <svg xmlns=\"http://www.w3.org/2000/svg\" height=\"24px\" viewBox=\"0 -960 960 960\">\n",
              "    <path d=\"M120-120v-720h720v720H120Zm60-500h600v-160H180v160Zm220 220h160v-160H400v160Zm0 220h160v-160H400v160ZM180-400h160v-160H180v160Zm440 0h160v-160H620v160ZM180-180h160v-160H180v160Zm440 0h160v-160H620v160Z\"/>\n",
              "  </svg>\n",
              "    </button>\n",
              "\n",
              "  <style>\n",
              "    .colab-df-container {\n",
              "      display:flex;\n",
              "      gap: 12px;\n",
              "    }\n",
              "\n",
              "    .colab-df-convert {\n",
              "      background-color: #E8F0FE;\n",
              "      border: none;\n",
              "      border-radius: 50%;\n",
              "      cursor: pointer;\n",
              "      display: none;\n",
              "      fill: #1967D2;\n",
              "      height: 32px;\n",
              "      padding: 0 0 0 0;\n",
              "      width: 32px;\n",
              "    }\n",
              "\n",
              "    .colab-df-convert:hover {\n",
              "      background-color: #E2EBFA;\n",
              "      box-shadow: 0px 1px 2px rgba(60, 64, 67, 0.3), 0px 1px 3px 1px rgba(60, 64, 67, 0.15);\n",
              "      fill: #174EA6;\n",
              "    }\n",
              "\n",
              "    .colab-df-buttons div {\n",
              "      margin-bottom: 4px;\n",
              "    }\n",
              "\n",
              "    [theme=dark] .colab-df-convert {\n",
              "      background-color: #3B4455;\n",
              "      fill: #D2E3FC;\n",
              "    }\n",
              "\n",
              "    [theme=dark] .colab-df-convert:hover {\n",
              "      background-color: #434B5C;\n",
              "      box-shadow: 0px 1px 3px 1px rgba(0, 0, 0, 0.15);\n",
              "      filter: drop-shadow(0px 1px 2px rgba(0, 0, 0, 0.3));\n",
              "      fill: #FFFFFF;\n",
              "    }\n",
              "  </style>\n",
              "\n",
              "    <script>\n",
              "      const buttonEl =\n",
              "        document.querySelector('#df-25df6141-a26c-4e3b-95fa-b316fc8c24db button.colab-df-convert');\n",
              "      buttonEl.style.display =\n",
              "        google.colab.kernel.accessAllowed ? 'block' : 'none';\n",
              "\n",
              "      async function convertToInteractive(key) {\n",
              "        const element = document.querySelector('#df-25df6141-a26c-4e3b-95fa-b316fc8c24db');\n",
              "        const dataTable =\n",
              "          await google.colab.kernel.invokeFunction('convertToInteractive',\n",
              "                                                    [key], {});\n",
              "        if (!dataTable) return;\n",
              "\n",
              "        const docLinkHtml = 'Like what you see? Visit the ' +\n",
              "          '<a target=\"_blank\" href=https://colab.research.google.com/notebooks/data_table.ipynb>data table notebook</a>'\n",
              "          + ' to learn more about interactive tables.';\n",
              "        element.innerHTML = '';\n",
              "        dataTable['output_type'] = 'display_data';\n",
              "        await google.colab.output.renderOutput(dataTable, element);\n",
              "        const docLink = document.createElement('div');\n",
              "        docLink.innerHTML = docLinkHtml;\n",
              "        element.appendChild(docLink);\n",
              "      }\n",
              "    </script>\n",
              "  </div>\n",
              "\n",
              "\n",
              "<div id=\"df-c7d1ced4-2d9a-471f-80c8-33e188d69c7c\">\n",
              "  <button class=\"colab-df-quickchart\" onclick=\"quickchart('df-c7d1ced4-2d9a-471f-80c8-33e188d69c7c')\"\n",
              "            title=\"Suggest charts\"\n",
              "            style=\"display:none;\">\n",
              "\n",
              "<svg xmlns=\"http://www.w3.org/2000/svg\" height=\"24px\"viewBox=\"0 0 24 24\"\n",
              "     width=\"24px\">\n",
              "    <g>\n",
              "        <path d=\"M19 3H5c-1.1 0-2 .9-2 2v14c0 1.1.9 2 2 2h14c1.1 0 2-.9 2-2V5c0-1.1-.9-2-2-2zM9 17H7v-7h2v7zm4 0h-2V7h2v10zm4 0h-2v-4h2v4z\"/>\n",
              "    </g>\n",
              "</svg>\n",
              "  </button>\n",
              "\n",
              "<style>\n",
              "  .colab-df-quickchart {\n",
              "      --bg-color: #E8F0FE;\n",
              "      --fill-color: #1967D2;\n",
              "      --hover-bg-color: #E2EBFA;\n",
              "      --hover-fill-color: #174EA6;\n",
              "      --disabled-fill-color: #AAA;\n",
              "      --disabled-bg-color: #DDD;\n",
              "  }\n",
              "\n",
              "  [theme=dark] .colab-df-quickchart {\n",
              "      --bg-color: #3B4455;\n",
              "      --fill-color: #D2E3FC;\n",
              "      --hover-bg-color: #434B5C;\n",
              "      --hover-fill-color: #FFFFFF;\n",
              "      --disabled-bg-color: #3B4455;\n",
              "      --disabled-fill-color: #666;\n",
              "  }\n",
              "\n",
              "  .colab-df-quickchart {\n",
              "    background-color: var(--bg-color);\n",
              "    border: none;\n",
              "    border-radius: 50%;\n",
              "    cursor: pointer;\n",
              "    display: none;\n",
              "    fill: var(--fill-color);\n",
              "    height: 32px;\n",
              "    padding: 0;\n",
              "    width: 32px;\n",
              "  }\n",
              "\n",
              "  .colab-df-quickchart:hover {\n",
              "    background-color: var(--hover-bg-color);\n",
              "    box-shadow: 0 1px 2px rgba(60, 64, 67, 0.3), 0 1px 3px 1px rgba(60, 64, 67, 0.15);\n",
              "    fill: var(--button-hover-fill-color);\n",
              "  }\n",
              "\n",
              "  .colab-df-quickchart-complete:disabled,\n",
              "  .colab-df-quickchart-complete:disabled:hover {\n",
              "    background-color: var(--disabled-bg-color);\n",
              "    fill: var(--disabled-fill-color);\n",
              "    box-shadow: none;\n",
              "  }\n",
              "\n",
              "  .colab-df-spinner {\n",
              "    border: 2px solid var(--fill-color);\n",
              "    border-color: transparent;\n",
              "    border-bottom-color: var(--fill-color);\n",
              "    animation:\n",
              "      spin 1s steps(1) infinite;\n",
              "  }\n",
              "\n",
              "  @keyframes spin {\n",
              "    0% {\n",
              "      border-color: transparent;\n",
              "      border-bottom-color: var(--fill-color);\n",
              "      border-left-color: var(--fill-color);\n",
              "    }\n",
              "    20% {\n",
              "      border-color: transparent;\n",
              "      border-left-color: var(--fill-color);\n",
              "      border-top-color: var(--fill-color);\n",
              "    }\n",
              "    30% {\n",
              "      border-color: transparent;\n",
              "      border-left-color: var(--fill-color);\n",
              "      border-top-color: var(--fill-color);\n",
              "      border-right-color: var(--fill-color);\n",
              "    }\n",
              "    40% {\n",
              "      border-color: transparent;\n",
              "      border-right-color: var(--fill-color);\n",
              "      border-top-color: var(--fill-color);\n",
              "    }\n",
              "    60% {\n",
              "      border-color: transparent;\n",
              "      border-right-color: var(--fill-color);\n",
              "    }\n",
              "    80% {\n",
              "      border-color: transparent;\n",
              "      border-right-color: var(--fill-color);\n",
              "      border-bottom-color: var(--fill-color);\n",
              "    }\n",
              "    90% {\n",
              "      border-color: transparent;\n",
              "      border-bottom-color: var(--fill-color);\n",
              "    }\n",
              "  }\n",
              "</style>\n",
              "\n",
              "  <script>\n",
              "    async function quickchart(key) {\n",
              "      const quickchartButtonEl =\n",
              "        document.querySelector('#' + key + ' button');\n",
              "      quickchartButtonEl.disabled = true;  // To prevent multiple clicks.\n",
              "      quickchartButtonEl.classList.add('colab-df-spinner');\n",
              "      try {\n",
              "        const charts = await google.colab.kernel.invokeFunction(\n",
              "            'suggestCharts', [key], {});\n",
              "      } catch (error) {\n",
              "        console.error('Error during call to suggestCharts:', error);\n",
              "      }\n",
              "      quickchartButtonEl.classList.remove('colab-df-spinner');\n",
              "      quickchartButtonEl.classList.add('colab-df-quickchart-complete');\n",
              "    }\n",
              "    (() => {\n",
              "      let quickchartButtonEl =\n",
              "        document.querySelector('#df-c7d1ced4-2d9a-471f-80c8-33e188d69c7c button');\n",
              "      quickchartButtonEl.style.display =\n",
              "        google.colab.kernel.accessAllowed ? 'block' : 'none';\n",
              "    })();\n",
              "  </script>\n",
              "</div>\n",
              "\n",
              "  <div id=\"id_450afde3-7bef-4d2c-ad26-e01180925599\">\n",
              "    <style>\n",
              "      .colab-df-generate {\n",
              "        background-color: #E8F0FE;\n",
              "        border: none;\n",
              "        border-radius: 50%;\n",
              "        cursor: pointer;\n",
              "        display: none;\n",
              "        fill: #1967D2;\n",
              "        height: 32px;\n",
              "        padding: 0 0 0 0;\n",
              "        width: 32px;\n",
              "      }\n",
              "\n",
              "      .colab-df-generate:hover {\n",
              "        background-color: #E2EBFA;\n",
              "        box-shadow: 0px 1px 2px rgba(60, 64, 67, 0.3), 0px 1px 3px 1px rgba(60, 64, 67, 0.15);\n",
              "        fill: #174EA6;\n",
              "      }\n",
              "\n",
              "      [theme=dark] .colab-df-generate {\n",
              "        background-color: #3B4455;\n",
              "        fill: #D2E3FC;\n",
              "      }\n",
              "\n",
              "      [theme=dark] .colab-df-generate:hover {\n",
              "        background-color: #434B5C;\n",
              "        box-shadow: 0px 1px 3px 1px rgba(0, 0, 0, 0.15);\n",
              "        filter: drop-shadow(0px 1px 2px rgba(0, 0, 0, 0.3));\n",
              "        fill: #FFFFFF;\n",
              "      }\n",
              "    </style>\n",
              "    <button class=\"colab-df-generate\" onclick=\"generateWithVariable('df')\"\n",
              "            title=\"Generate code using this dataframe.\"\n",
              "            style=\"display:none;\">\n",
              "\n",
              "  <svg xmlns=\"http://www.w3.org/2000/svg\" height=\"24px\"viewBox=\"0 0 24 24\"\n",
              "       width=\"24px\">\n",
              "    <path d=\"M7,19H8.4L18.45,9,17,7.55,7,17.6ZM5,21V16.75L18.45,3.32a2,2,0,0,1,2.83,0l1.4,1.43a1.91,1.91,0,0,1,.58,1.4,1.91,1.91,0,0,1-.58,1.4L9.25,21ZM18.45,9,17,7.55Zm-12,3A5.31,5.31,0,0,0,4.9,8.1,5.31,5.31,0,0,0,1,6.5,5.31,5.31,0,0,0,4.9,4.9,5.31,5.31,0,0,0,6.5,1,5.31,5.31,0,0,0,8.1,4.9,5.31,5.31,0,0,0,12,6.5,5.46,5.46,0,0,0,6.5,12Z\"/>\n",
              "  </svg>\n",
              "    </button>\n",
              "    <script>\n",
              "      (() => {\n",
              "      const buttonEl =\n",
              "        document.querySelector('#id_450afde3-7bef-4d2c-ad26-e01180925599 button.colab-df-generate');\n",
              "      buttonEl.style.display =\n",
              "        google.colab.kernel.accessAllowed ? 'block' : 'none';\n",
              "\n",
              "      buttonEl.onclick = () => {\n",
              "        google.colab.notebook.generateWithVariable('df');\n",
              "      }\n",
              "      })();\n",
              "    </script>\n",
              "  </div>\n",
              "\n",
              "    </div>\n",
              "  </div>\n"
            ],
            "application/vnd.google.colaboratory.intrinsic+json": {
              "type": "dataframe",
              "variable_name": "df",
              "summary": "{\n  \"name\": \"df\",\n  \"rows\": 19,\n  \"fields\": [\n    {\n      \"column\": \"Statistic\",\n      \"properties\": {\n        \"dtype\": \"string\",\n        \"num_unique_values\": 19,\n        \"samples\": [\n          \"Non-Penalty Goals\",\n          \"npxG + xAG\",\n          \"Successful Take-Ons\"\n        ],\n        \"semantic_type\": \"\",\n        \"description\": \"\"\n      }\n    },\n    {\n      \"column\": \"Per 90\",\n      \"properties\": {\n        \"dtype\": \"string\",\n        \"num_unique_values\": 19,\n        \"samples\": [\n          \"0.15\",\n          \"0.51\",\n          \"2.83\"\n        ],\n        \"semantic_type\": \"\",\n        \"description\": \"\"\n      }\n    },\n    {\n      \"column\": \"Percentile\",\n      \"properties\": {\n        \"dtype\": \"number\",\n        \"std\": 25.087216287436746,\n        \"min\": 8.0,\n        \"max\": 96.0,\n        \"num_unique_values\": 17,\n        \"samples\": [\n          24.0,\n          58.0,\n          74.0\n        ],\n        \"semantic_type\": \"\",\n        \"description\": \"\"\n      }\n    }\n  ]\n}"
            }
          },
          "metadata": {},
          "execution_count": 62
        }
      ]
    },
    {
      "cell_type": "code",
      "source": [
        "prompt = f\"\"\"\n",
        "\n",
        "I need you to create a scouting report on {player_name}. Can you provide me with a summary of their strengths and weaknesses?\n",
        "\n",
        "Here is the data I have on him:\n",
        "\n",
        "Player: {player_name}\n",
        "Position: {position}\n",
        "Age: {age}\n",
        "Team: {team}\n",
        "\n",
        "{df.to_markdown()}\n",
        "\n",
        "\n",
        "Return the scouting report in the following markdown format:\n",
        "\n",
        "# Scouting Report for {player_name}\n",
        "\n",
        "## Strengths\n",
        "< a list of 1 to 3 strengths >\n",
        "\n",
        "## Weaknesses\n",
        "< a list of 1 to 3 weaknesses >\n",
        "\n",
        "## Summary\n",
        "< a brief summary of the player's overall performance and if he would be beneficial to the team >\n",
        "\"\"\"\n",
        "prompt"
      ],
      "metadata": {
        "colab": {
          "base_uri": "https://localhost:8080/",
          "height": 157
        },
        "id": "mmAtzn6ld7SQ",
        "outputId": "d45d800f-82e2-492b-af6f-05d232431b18"
      },
      "execution_count": 63,
      "outputs": [
        {
          "output_type": "execute_result",
          "data": {
            "text/plain": [
              "\"\\n\\nI need you to create a scouting report on Lamine Yamal. Can you provide me with a summary of their strengths and weaknesses?\\n\\nHere is the data I have on him:\\n\\nPlayer: Lamine Yamal\\nPosition: \\nAge: 16\\nTeam: Barcelona\\n\\n|    | Statistic                | Per 90   |   Percentile |\\n|---:|:-------------------------|:---------|-------------:|\\n|  0 | Non-Penalty Goals        | 0.15     |           24 |\\n|  1 | npxG: Non-Penalty xG     | 0.24     |           58 |\\n|  2 | Shots Total              | 2.61     |           71 |\\n|  3 | Assists                  | 0.22     |           63 |\\n|  4 | xAG: Exp. Assisted Goals | 0.28     |           83 |\\n|  5 | npxG + xAG               | 0.51     |           74 |\\n|  6 | Shot-Creating Actions    | 4.49     |           71 |\\n|  8 | Passes Attempted         | 44.58    |           71 |\\n|  9 | Pass Completion %        | 78.6%    |           72 |\\n| 10 | Progressive Passes       | 3.38     |           36 |\\n| 11 | Progressive Carries      | 4.97     |           80 |\\n| 12 | Successful Take-Ons      | 2.83     |           87 |\\n| 13 | Touches (Att Pen)        | 6.11     |           85 |\\n| 14 | Progressive Passes Rec   | 13.50    |           96 |\\n| 16 | Tackles                  | 2.32     |           95 |\\n| 17 | Interceptions            | 0.85     |           92 |\\n| 18 | Blocks                   | 1.62     |           94 |\\n| 19 | Clearances               | 0.44     |           40 |\\n| 20 | Aerials Won              | 0.11     |            8 |\\n\\n\\nReturn the scouting report in the following markdown format:\\n\\n# Scouting Report for Lamine Yamal\\n\\n## Strengths\\n< a list of 1 to 3 strengths >\\n\\n## Weaknesses\\n< a list of 1 to 3 weaknesses >\\n\\n## Summary\\n< a brief summary of the player's overall performance and if he would be beneficial to the team >\\n\""
            ],
            "application/vnd.google.colaboratory.intrinsic+json": {
              "type": "string"
            }
          },
          "metadata": {},
          "execution_count": 63
        }
      ]
    },
    {
      "cell_type": "code",
      "source": [
        "print(prompt)"
      ],
      "metadata": {
        "colab": {
          "base_uri": "https://localhost:8080/"
        },
        "id": "IkUTfckReDDA",
        "outputId": "ce52ce7d-7412-4190-efe6-6f750952b2f2"
      },
      "execution_count": 64,
      "outputs": [
        {
          "output_type": "stream",
          "name": "stdout",
          "text": [
            "\n",
            "\n",
            "I need you to create a scouting report on Lamine Yamal. Can you provide me with a summary of their strengths and weaknesses?\n",
            "\n",
            "Here is the data I have on him:\n",
            "\n",
            "Player: Lamine Yamal\n",
            "Position: \n",
            "Age: 16\n",
            "Team: Barcelona\n",
            "\n",
            "|    | Statistic                | Per 90   |   Percentile |\n",
            "|---:|:-------------------------|:---------|-------------:|\n",
            "|  0 | Non-Penalty Goals        | 0.15     |           24 |\n",
            "|  1 | npxG: Non-Penalty xG     | 0.24     |           58 |\n",
            "|  2 | Shots Total              | 2.61     |           71 |\n",
            "|  3 | Assists                  | 0.22     |           63 |\n",
            "|  4 | xAG: Exp. Assisted Goals | 0.28     |           83 |\n",
            "|  5 | npxG + xAG               | 0.51     |           74 |\n",
            "|  6 | Shot-Creating Actions    | 4.49     |           71 |\n",
            "|  8 | Passes Attempted         | 44.58    |           71 |\n",
            "|  9 | Pass Completion %        | 78.6%    |           72 |\n",
            "| 10 | Progressive Passes       | 3.38     |           36 |\n",
            "| 11 | Progressive Carries      | 4.97     |           80 |\n",
            "| 12 | Successful Take-Ons      | 2.83     |           87 |\n",
            "| 13 | Touches (Att Pen)        | 6.11     |           85 |\n",
            "| 14 | Progressive Passes Rec   | 13.50    |           96 |\n",
            "| 16 | Tackles                  | 2.32     |           95 |\n",
            "| 17 | Interceptions            | 0.85     |           92 |\n",
            "| 18 | Blocks                   | 1.62     |           94 |\n",
            "| 19 | Clearances               | 0.44     |           40 |\n",
            "| 20 | Aerials Won              | 0.11     |            8 |\n",
            "\n",
            "\n",
            "Return the scouting report in the following markdown format:\n",
            "\n",
            "# Scouting Report for Lamine Yamal\n",
            "\n",
            "## Strengths\n",
            "< a list of 1 to 3 strengths >\n",
            "\n",
            "## Weaknesses\n",
            "< a list of 1 to 3 weaknesses >\n",
            "\n",
            "## Summary\n",
            "< a brief summary of the player's overall performance and if he would be beneficial to the team >\n",
            "\n"
          ]
        }
      ]
    },
    {
      "cell_type": "code",
      "source": [
        "API_KEY=userdata.get('API_KEY')"
      ],
      "metadata": {
        "id": "xobap8N_eFNM"
      },
      "execution_count": 65,
      "outputs": []
    },
    {
      "cell_type": "code",
      "source": [
        "\"\"\"\n",
        "At the command line, only need to run once to install the package via pip:\n",
        "\n",
        "$ pip install google-generativeai\n",
        "\"\"\"\n",
        "\n",
        "import google.generativeai as genai\n",
        "genai.configure(api_key=API_KEY)\n",
        "\n",
        "# Set up the model\n",
        "generation_config = {\n",
        "  \"temperature\": 1,\n",
        "  \"top_p\": 0.95,\n",
        "  \"top_k\": 0,\n",
        "  \"max_output_tokens\": 8192,\n",
        "}\n",
        "\n",
        "safety_settings = [\n",
        "  {\n",
        "    \"category\": \"HARM_CATEGORY_HARASSMENT\",\n",
        "    \"threshold\": \"BLOCK_MEDIUM_AND_ABOVE\"\n",
        "  },\n",
        "  {\n",
        "    \"category\": \"HARM_CATEGORY_HATE_SPEECH\",\n",
        "    \"threshold\": \"BLOCK_MEDIUM_AND_ABOVE\"\n",
        "  },\n",
        "  {\n",
        "    \"category\": \"HARM_CATEGORY_SEXUALLY_EXPLICIT\",\n",
        "    \"threshold\": \"BLOCK_MEDIUM_AND_ABOVE\"\n",
        "  },\n",
        "  {\n",
        "    \"category\": \"HARM_CATEGORY_DANGEROUS_CONTENT\",\n",
        "    \"threshold\": \"BLOCK_MEDIUM_AND_ABOVE\"\n",
        "  },\n",
        "]\n",
        "\n"
      ],
      "metadata": {
        "id": "zthcpYPac66S"
      },
      "execution_count": 66,
      "outputs": []
    },
    {
      "cell_type": "code",
      "source": [
        "model = genai.GenerativeModel(model_name=\"gemini-1.5-pro-latest\",\n",
        "                              generation_config=generation_config,\n",
        "                              safety_settings=safety_settings)\n",
        "\n",
        "convo = model.start_chat(history=[\n",
        "])"
      ],
      "metadata": {
        "id": "Pd-iW70ydKsh"
      },
      "execution_count": 67,
      "outputs": []
    },
    {
      "cell_type": "code",
      "source": [
        "convo.send_message(prompt)\n",
        "# print(convo.last.text)"
      ],
      "metadata": {
        "colab": {
          "base_uri": "https://localhost:8080/",
          "height": 382
        },
        "id": "HY5nUJl-dQom",
        "outputId": "53b800d4-ca81-4fdc-e671-58d919cfa98c"
      },
      "execution_count": 68,
      "outputs": [
        {
          "output_type": "execute_result",
          "data": {
            "text/plain": [
              "response:\n",
              "GenerateContentResponse(\n",
              "    done=True,\n",
              "    iterator=None,\n",
              "    result=glm.GenerateContentResponse({'candidates': [{'content': {'parts': [{'text': \"# Scouting Report for Lamine Yamal\\n\\n## Strengths\\n\\n*   **Dribbling and Chance Creation:** Yamal excels at taking on defenders and creating scoring opportunities for himself and his teammates. His high percentile rankings in successful take-ons, shot-creating actions, and xAG demonstrate his ability to be a dynamic threat in the final third. \\n*   **Ball Retention and Passing:** He displays good passing ability with a high pass completion rate, indicating his ability to keep possession and distribute the ball effectively.  \\n*   **Defensive Contribution:** Yamal's defensive stats are impressive for an attacking player. His high percentile rankings in tackles, interceptions, and blocks show his willingness to contribute defensively and press opponents. \\n\\n## Weaknesses\\n\\n*   **Goal Scoring:** While his xG suggests he gets into good scoring positions, his actual goal-scoring output is relatively low. Improving his finishing ability will be crucial for him to become a more well-rounded attacker.\\n*   **Aerial Ability:** Yamal's aerial duel success rate is very low, which could be a limitation in certain situations. \\n\\n## Summary\\n\\nLamine Yamal is a talented young player with exciting potential. His dribbling skills, creativity, and defensive contributions make him a valuable asset to any team. While his goal-scoring could improve, his ability to create chances for himself and others suggests that he could develop into a top-class attacker with time and experience. He would likely be a beneficial addition to many teams, especially those that value dynamic wingers who can contribute both offensively and defensively. \\n\"}], 'role': 'model'}, 'finish_reason': 1, 'index': 0, 'safety_ratings': [{'category': 9, 'probability': 1, 'blocked': False}, {'category': 8, 'probability': 1, 'blocked': False}, {'category': 7, 'probability': 1, 'blocked': False}, {'category': 10, 'probability': 1, 'blocked': False}], 'token_count': 0, 'grounding_attributions': []}]}),\n",
              ")"
            ]
          },
          "metadata": {},
          "execution_count": 68
        }
      ]
    },
    {
      "cell_type": "code",
      "source": [
        "from pathlib import Path\n",
        "from IPython.display import Markdown\n"
      ],
      "metadata": {
        "id": "XdbcnAGSeP_e"
      },
      "execution_count": 69,
      "outputs": []
    },
    {
      "cell_type": "code",
      "source": [
        "display(Markdown(convo.last.text))"
      ],
      "metadata": {
        "colab": {
          "base_uri": "https://localhost:8080/",
          "height": 451
        },
        "id": "paH0n0R9hdwm",
        "outputId": "f182f8b9-7098-4106-9406-40902b5ef7e1"
      },
      "execution_count": 70,
      "outputs": [
        {
          "output_type": "display_data",
          "data": {
            "text/plain": [
              "<IPython.core.display.Markdown object>"
            ],
            "text/markdown": "# Scouting Report for Lamine Yamal\n\n## Strengths\n\n*   **Dribbling and Chance Creation:** Yamal excels at taking on defenders and creating scoring opportunities for himself and his teammates. His high percentile rankings in successful take-ons, shot-creating actions, and xAG demonstrate his ability to be a dynamic threat in the final third. \n*   **Ball Retention and Passing:** He displays good passing ability with a high pass completion rate, indicating his ability to keep possession and distribute the ball effectively.  \n*   **Defensive Contribution:** Yamal's defensive stats are impressive for an attacking player. His high percentile rankings in tackles, interceptions, and blocks show his willingness to contribute defensively and press opponents. \n\n## Weaknesses\n\n*   **Goal Scoring:** While his xG suggests he gets into good scoring positions, his actual goal-scoring output is relatively low. Improving his finishing ability will be crucial for him to become a more well-rounded attacker.\n*   **Aerial Ability:** Yamal's aerial duel success rate is very low, which could be a limitation in certain situations. \n\n## Summary\n\nLamine Yamal is a talented young player with exciting potential. His dribbling skills, creativity, and defensive contributions make him a valuable asset to any team. While his goal-scoring could improve, his ability to create chances for himself and others suggests that he could develop into a top-class attacker with time and experience. He would likely be a beneficial addition to many teams, especially those that value dynamic wingers who can contribute both offensively and defensively. \n"
          },
          "metadata": {}
        }
      ]
    },
    {
      "cell_type": "code",
      "source": [
        "# Print to file.\n",
        "file_path = Path(f\"{player_name}_scouting_report.md\")\n",
        "file_path.write_text(convo.last.text)"
      ],
      "metadata": {
        "colab": {
          "base_uri": "https://localhost:8080/"
        },
        "id": "Ri8-hVb4g4s9",
        "outputId": "4781edd4-277e-49e0-b4d0-78c180745619"
      },
      "execution_count": 71,
      "outputs": [
        {
          "output_type": "execute_result",
          "data": {
            "text/plain": [
              "1631"
            ]
          },
          "metadata": {},
          "execution_count": 71
        }
      ]
    },
    {
      "cell_type": "markdown",
      "source": [
        "# Future Plans\n",
        "### Include Football Manager stats from internet\n",
        "* https://fminside.net/players/4-fm-24/2000256231-lamine-yamal\n",
        "### Include video understanding with Gemini 1.5 pro\n",
        "* https://github.com/google-gemini/cookbook/blob/main/quickstarts/Video.ipynb\n"
      ],
      "metadata": {
        "id": "TC_i-UCShDUX"
      }
    }
  ]
}